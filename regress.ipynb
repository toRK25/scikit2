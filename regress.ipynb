{
 "cells": [
  {
   "cell_type": "code",
   "execution_count": null,
   "id": "db3b1fcc",
   "metadata": {},
   "outputs": [],
   "source": [
    "import plotly.express as px\n",
    "import matplotlib.pyplot as plt\n",
    "import numpy as np\n",
    "import pandas as pd\n",
    "import seaborn as sns\n",
    "import matplotlib\n",
    "%matplotlib inline\n",
    "import sklearn"
   ]
  },
  {
   "cell_type": "code",
   "execution_count": null,
   "id": "29a81b30",
   "metadata": {},
   "outputs": [],
   "source": [
    "df = pd.read_csv(\"C:\\\\Users\\\\Vedant\\\\Desktop\\\\TWO DIRECTION\\\\AIML\\\\VS CODE\\\\scikit\\\\datas\\\\diabetes.csv\")\n",
    "df.head(40)"
   ]
  },
  {
   "cell_type": "code",
   "execution_count": 24,
   "id": "270aecf5",
   "metadata": {},
   "outputs": [
    {
     "name": "stdout",
     "output_type": "stream",
     "text": [
      "<class 'pandas.core.frame.DataFrame'>\n",
      "RangeIndex: 768 entries, 0 to 767\n",
      "Data columns (total 9 columns):\n",
      " #   Column                    Non-Null Count  Dtype  \n",
      "---  ------                    --------------  -----  \n",
      " 0   Pregnancies               768 non-null    int64  \n",
      " 1   Glucose                   768 non-null    int64  \n",
      " 2   BloodPressure             768 non-null    int64  \n",
      " 3   SkinThickness             768 non-null    int64  \n",
      " 4   Insulin                   768 non-null    int64  \n",
      " 5   BMI                       768 non-null    float64\n",
      " 6   DiabetesPedigreeFunction  768 non-null    float64\n",
      " 7   Age                       768 non-null    int64  \n",
      " 8   Outcome                   768 non-null    int64  \n",
      "dtypes: float64(2), int64(7)\n",
      "memory usage: 54.1 KB\n"
     ]
    }
   ],
   "source": [
    "df.info() "
   ]
  },
  {
   "cell_type": "markdown",
   "id": "571c989b",
   "metadata": {},
   "source": [
    "we have a clean data set"
   ]
  },
  {
   "cell_type": "code",
   "execution_count": null,
   "id": "ae1f68fc",
   "metadata": {},
   "outputs": [],
   "source": [
    "df.describe()"
   ]
  },
  {
   "cell_type": "code",
   "execution_count": null,
   "id": "f310f34d",
   "metadata": {},
   "outputs": [],
   "source": [
    "df.hist(\"Insulin\")\n",
    "plt.show()"
   ]
  },
  {
   "cell_type": "markdown",
   "id": "961b66a1",
   "metadata": {},
   "source": [
    "NOW WE CHECK CORRELATION AMONG ALL"
   ]
  },
  {
   "cell_type": "code",
   "execution_count": null,
   "id": "89eb81a3",
   "metadata": {},
   "outputs": [],
   "source": [
    "COR=df.corr()\n",
    "COR"
   ]
  },
  {
   "cell_type": "code",
   "execution_count": null,
   "id": "c811b8ae",
   "metadata": {},
   "outputs": [],
   "source": [
    "plt.figure(figsize=(10, 8))\n",
    "sns.heatmap(COR, annot=True,cmap=\"Blues\")\n",
    "plt.show()"
   ]
  },
  {
   "cell_type": "markdown",
   "id": "3b0ff31a",
   "metadata": {},
   "source": [
    "WE CAN SEE THERE IS HIGH CORELATION BETWEEN AGE AND PREGNENCIES."
   ]
  },
  {
   "cell_type": "markdown",
   "id": "bf94c22e",
   "metadata": {},
   "source": [
    "now we check visual relationship among all\n"
   ]
  },
  {
   "cell_type": "code",
   "execution_count": null,
   "id": "3974af51",
   "metadata": {},
   "outputs": [],
   "source": [
    "visual=df[[\"Pregnancies\",'Glucose','BloodPressure','SkinThickness','Insulin','BMI','DiabetesPedigreeFunction','Age','Outcome']]\n",
    "sns.pairplot(visual, kind = 'scatter' , plot_kws={'alpha':0.5})"
   ]
  },
  {
   "cell_type": "code",
   "execution_count": null,
   "id": "1e57422d",
   "metadata": {},
   "outputs": [],
   "source": [
    "from sklearn.linear_model import LinearRegression\n",
    "model = LinearRegression()\n"
   ]
  },
  {
   "cell_type": "code",
   "execution_count": null,
   "id": "bd7f6ab8",
   "metadata": {},
   "outputs": [
    {
     "data": {
      "text/plain": [
       "(768,)"
      ]
     },
     "execution_count": 25,
     "metadata": {},
     "output_type": "execute_result"
    }
   ],
   "source": [
    "inputs = df[['Age']]\n",
    "target = df.Pregnancies\n"
   ]
  },
  {
   "cell_type": "code",
   "execution_count": null,
   "id": "9f99b844",
   "metadata": {},
   "outputs": [],
   "source": []
  }
 ],
 "metadata": {
  "kernelspec": {
   "display_name": "Python 3",
   "language": "python",
   "name": "python3"
  },
  "language_info": {
   "codemirror_mode": {
    "name": "ipython",
    "version": 3
   },
   "file_extension": ".py",
   "mimetype": "text/x-python",
   "name": "python",
   "nbconvert_exporter": "python",
   "pygments_lexer": "ipython3",
   "version": "3.13.5"
  }
 },
 "nbformat": 4,
 "nbformat_minor": 5
}
