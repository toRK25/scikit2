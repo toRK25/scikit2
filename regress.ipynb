{
 "cells": [
  {
   "cell_type": "code",
   "execution_count": null,
   "id": "db3b1fcc",
   "metadata": {},
   "outputs": [],
   "source": [
    "import plotly.express as px\n",
    "import matplotlib.pyplot as plt\n",
    "import numpy as np\n",
    "import pandas as pd\n",
    "import seaborn as sns\n",
    "import matplotlib\n",
    "%matplotlib inline\n",
    "import sklearn"
   ]
  },
  {
   "cell_type": "code",
   "execution_count": null,
   "id": "29a81b30",
   "metadata": {},
   "outputs": [],
   "source": [
    "df = pd.read_csv(\"C:\\\\Users\\\\Vedant\\\\Desktop\\\\TWO DIRECTION\\\\AIML\\\\VS CODE\\\\scikit\\\\datas\\\\diabetes.csv\")\n",
    "df.head(40)"
   ]
  },
  {
   "cell_type": "code",
   "execution_count": null,
   "id": "270aecf5",
   "metadata": {},
   "outputs": [],
   "source": [
    "df.info() "
   ]
  },
  {
   "cell_type": "markdown",
   "id": "571c989b",
   "metadata": {},
   "source": [
    "we have a clean data set"
   ]
  },
  {
   "cell_type": "code",
   "execution_count": null,
   "id": "ae1f68fc",
   "metadata": {},
   "outputs": [],
   "source": [
    "df.describe()"
   ]
  },
  {
   "cell_type": "code",
   "execution_count": null,
   "id": "f310f34d",
   "metadata": {},
   "outputs": [],
   "source": [
    "df.hist(\"Insulin\")\n",
    "plt.show()"
   ]
  },
  {
   "cell_type": "markdown",
   "id": "961b66a1",
   "metadata": {},
   "source": [
    "NOW WE CHECK CORRELATION AMONG ALL"
   ]
  },
  {
   "cell_type": "code",
   "execution_count": null,
   "id": "89eb81a3",
   "metadata": {},
   "outputs": [],
   "source": [
    "COR=df.corr()\n",
    "COR"
   ]
  },
  {
   "cell_type": "code",
   "execution_count": null,
   "id": "c811b8ae",
   "metadata": {},
   "outputs": [],
   "source": [
    "plt.figure(figsize=(10, 8))\n",
    "sns.heatmap(COR, annot=True,cmap=\"Blues\")\n",
    "plt.show()"
   ]
  },
  {
   "cell_type": "code",
   "execution_count": null,
   "id": "4399215e",
   "metadata": {},
   "outputs": [],
   "source": [
    "m=0.5\n",
    "b=2"
   ]
  },
  {
   "cell_type": "code",
   "execution_count": null,
   "id": "b3518f80",
   "metadata": {},
   "outputs": [],
   "source": [
    "def rmse(target , prediction):\n",
    "    return np.sqrt(((prediction-actual)**2).mean())\n"
   ]
  },
  {
   "cell_type": "code",
   "execution_count": null,
   "id": "cc9afc78",
   "metadata": {},
   "outputs": [],
   "source": []
  },
  {
   "cell_type": "markdown",
   "id": "3b0ff31a",
   "metadata": {},
   "source": [
    "WE CAN SEE THERE IS HIGH CORELATION BETWEEN AGE AND PREGNENCIES."
   ]
  },
  {
   "cell_type": "markdown",
   "id": "bf94c22e",
   "metadata": {},
   "source": [
    "now we check visual relationship among all\n"
   ]
  },
  {
   "cell_type": "code",
   "execution_count": null,
   "id": "3974af51",
   "metadata": {},
   "outputs": [],
   "source": [
    "visual=df[[\"Pregnancies\",'Glucose','BloodPressure','SkinThickness','Insulin','BMI','DiabetesPedigreeFunction','Age','Outcome']]\n",
    "sns.pairplot(visual, kind = 'scatter' , plot_kws={'alpha':0.5})"
   ]
  },
  {
   "cell_type": "code",
   "execution_count": null,
   "id": "9063a130",
   "metadata": {},
   "outputs": [],
   "source": [
    "def estimate_pregnency(age,m,b):\n",
    "    return m*age + b"
   ]
  },
  {
   "cell_type": "code",
   "execution_count": null,
   "id": "e8388d85",
   "metadata": {},
   "outputs": [],
   "source": [
    "prediction = estimate_pregnency(df.Age,m,b)"
   ]
  },
  {
   "cell_type": "code",
   "execution_count": null,
   "id": "4e6976e0",
   "metadata": {},
   "outputs": [],
   "source": [
    "actual = df.Pregnancies"
   ]
  },
  {
   "cell_type": "code",
   "execution_count": null,
   "id": "4d4b4b17",
   "metadata": {},
   "outputs": [],
   "source": [
    "def tryparam(m,b):\n",
    "    prediction = estimate_pregnency(df.Age,m,b)\n",
    "    plt.plot(df.Age,prediction,color='red')\n",
    "    plt.scatter(df.Age,df.Pregnancies,alpha=0.5)\n",
    "    plt.title('Estimated vs Actual Charges')\n",
    "    plt.xlabel('Age')\n",
    "    plt.ylabel('Charges')\n",
    "    plt.show()\n",
    "\n"
   ]
  },
  {
   "cell_type": "code",
   "execution_count": null,
   "id": "45d1b074",
   "metadata": {},
   "outputs": [],
   "source": [
    "m=0.5\n",
    "b=2"
   ]
  },
  {
   "cell_type": "code",
   "execution_count": null,
   "id": "1f83a850",
   "metadata": {},
   "outputs": [],
   "source": [
    "tryparam(m,b)"
   ]
  },
  {
   "cell_type": "code",
   "execution_count": null,
   "id": "1fd5caaa",
   "metadata": {},
   "outputs": [],
   "source": [
    "def rmse(actual,predicted):\n",
    "    return np.sqrt(((predicted - actual) ** 2).mean())"
   ]
  },
  {
   "cell_type": "code",
   "execution_count": null,
   "id": "669ba388",
   "metadata": {},
   "outputs": [],
   "source": [
    "ages=df['Age']\n",
    "actual = df['Pregnancies']\n",
    "pred=estimate_pregnency(ages,m,b)"
   ]
  },
  {
   "cell_type": "code",
   "execution_count": null,
   "id": "be333ea8",
   "metadata": {},
   "outputs": [],
   "source": [
    "rmse(actual,pred)"
   ]
  },
  {
   "cell_type": "code",
   "execution_count": null,
   "id": "c420f9a3",
   "metadata": {},
   "outputs": [],
   "source": [
    "def tryparam1(m,b):\n",
    "    prediction = estimate_pregnency(ages,m,b)\n",
    "    plt.plot(ages,prediction,color='red')\n",
    "    plt.scatter(ages,df.Pregnancies,alpha=0.5)\n",
    "    plt.title('Estimated vs Actual Charges')\n",
    "    plt.xlabel('Age')\n",
    "    plt.ylabel('Charges')\n",
    "    plt.show()\n",
    "\n",
    "loss = rmse(ages,pred)\n",
    "print('RME LOSS' , loss)"
   ]
  },
  {
   "cell_type": "code",
   "execution_count": null,
   "id": "1e57422d",
   "metadata": {},
   "outputs": [],
   "source": [
    "from sklearn.linear_model import LinearRegression\n",
    "model = LinearRegression()\n"
   ]
  },
  {
   "cell_type": "code",
   "execution_count": null,
   "id": "bd7f6ab8",
   "metadata": {},
   "outputs": [],
   "source": [
    "x = df[['Age']]\n",
    "y = df.Pregnancies\n"
   ]
  },
  {
   "cell_type": "code",
   "execution_count": null,
   "id": "9f99b844",
   "metadata": {},
   "outputs": [],
   "source": [
    "from sklearn.model_selection import train_test_split\n",
    "X_train, X_test, y_train, y_test = train_test_split(x,y, test_size = 0.2)"
   ]
  },
  {
   "cell_type": "code",
   "execution_count": null,
   "id": "777c191b",
   "metadata": {},
   "outputs": [],
   "source": [
    "model.fit(X_train,y_train)"
   ]
  },
  {
   "cell_type": "code",
   "execution_count": null,
   "id": "0c0a726a",
   "metadata": {},
   "outputs": [],
   "source": [
    "predictions = model.predict(X_train)\n"
   ]
  },
  {
   "cell_type": "code",
   "execution_count": null,
   "id": "a3a5cab4",
   "metadata": {},
   "outputs": [],
   "source": [
    "rmse(y_train,predictions)"
   ]
  },
  {
   "cell_type": "code",
   "execution_count": null,
   "id": "e2926d15",
   "metadata": {},
   "outputs": [],
   "source": [
    "M=model.coef_\n",
    "B=model.intercept_"
   ]
  },
  {
   "cell_type": "code",
   "execution_count": null,
   "id": "23bc977e",
   "metadata": {},
   "outputs": [],
   "source": [
    "tryparam1(M,B)"
   ]
  }
 ],
 "metadata": {
  "kernelspec": {
   "display_name": "Python 3",
   "language": "python",
   "name": "python3"
  },
  "language_info": {
   "codemirror_mode": {
    "name": "ipython",
    "version": 3
   },
   "file_extension": ".py",
   "mimetype": "text/x-python",
   "name": "python",
   "nbconvert_exporter": "python",
   "pygments_lexer": "ipython3",
   "version": "3.13.5"
  }
 },
 "nbformat": 4,
 "nbformat_minor": 5
}
